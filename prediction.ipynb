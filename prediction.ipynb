{
  "nbformat": 4,
  "nbformat_minor": 0,
  "metadata": {
    "colab": {
      "name": "prediction.ipynb",
      "provenance": [],
      "collapsed_sections": []
    },
    "kernelspec": {
      "name": "python3",
      "display_name": "Python 3"
    }
  },
  "cells": [
    {
      "cell_type": "code",
      "metadata": {
        "id": "iOBWYi6_Boxb",
        "colab_type": "code",
        "outputId": "33ecc90b-e369-4a27-f29a-876b318f3b2b",
        "colab": {
          "base_uri": "https://localhost:8080/",
          "height": 34
        }
      },
      "source": [
        "import pandas as pd\n",
        "from sklearn import linear_model\n",
        "\n",
        "df = pd.read_csv('homeprice.csv')\n",
        "\n",
        "model = linear_model.LinearRegression()\n",
        "model.fit(df[['area']], df.price)\n",
        "\n",
        "print(int(model.predict([[1000]])))"
      ],
      "execution_count": 0,
      "outputs": [
        {
          "output_type": "stream",
          "text": [
            "316404\n"
          ],
          "name": "stdout"
        }
      ]
    },
    {
      "cell_type": "code",
      "metadata": {
        "id": "GeQWD01wM1jQ",
        "colab_type": "code",
        "outputId": "6b590e23-c46a-4fa9-9b6e-b8a6cab175ba",
        "colab": {
          "base_uri": "https://localhost:8080/",
          "height": 34
        }
      },
      "source": [
        ""
      ],
      "execution_count": 0,
      "outputs": [
        {
          "output_type": "stream",
          "text": [
            "196910\n"
          ],
          "name": "stdout"
        }
      ]
    }
  ]
}